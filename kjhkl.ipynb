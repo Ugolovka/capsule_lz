{
 "cells": [
  {
   "cell_type": "code",
   "execution_count": null,
   "metadata": {},
   "outputs": [
    {
     "name": "stdout",
     "output_type": "stream",
     "text": [
      "   A  B\n",
      "0  1  4\n",
      "1  2  5\n",
      "2  3  6\n"
     ]
    }
   ],
   "source": [
    "\n",
    "import pandas as pd\n",
    "\n",
    "class MyClass:\n",
    "    def __init__(self, dataframe):\n",
    "        self.dataframe = dataframe\n",
    "    \n",
    "    def print_dataframe(self):\n",
    "        print(self.dataframe)\n",
    "\n",
    "# Create a DataFrame\n",
    "df = pd.DataFrame({'A': [1, 2, 3], 'B': [4, 5, 6]})\n",
    "\n",
    "# Pass the DataFrame into the class\n",
    "my_instance = MyClass(df)\n",
    "\n",
    "# Call a method in the class that prints the DataFrame\n",
    "my_instance.print_dataframe()"
   ]
  },
  {
   "cell_type": "code",
   "execution_count": null,
   "metadata": {},
   "outputs": [],
   "source": [
    "import pandas as pd\n",
    "class StudentsDF(pd.DataFrame):\n",
    "    SCORES = 'scores'\n",
    "    STUDENT_NAME = 'name'\n",
    "    @property\n",
    "    def _constructor(self):\n",
    "        return StudentsDF\n",
    "x = StudentsDF(data=dict(name=['Alice', 'Bob'], scores=[60, 50]))\n",
    "type(x)  \n",
    "\n",
    "def calculate_mean(df: StudentsDF):\n",
    "    # ...\n",
    "    return df[df.SCORES].mean()\n",
    "\n",
    "df = pd.read_csv('/tmp/t.csv')\n",
    "students_df = StudentsDF(df)\n",
    "print(student_df.columns)"
   ]
  }
 ],
 "metadata": {
  "kernelspec": {
   "display_name": "Python 3",
   "language": "python",
   "name": "python3"
  },
  "language_info": {
   "codemirror_mode": {
    "name": "ipython",
    "version": 3
   },
   "file_extension": ".py",
   "mimetype": "text/x-python",
   "name": "python",
   "nbconvert_exporter": "python",
   "pygments_lexer": "ipython3",
   "version": "3.12.3"
  }
 },
 "nbformat": 4,
 "nbformat_minor": 2
}
